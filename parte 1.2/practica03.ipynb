{
 "cells": [
  {
   "cell_type": "code",
   "execution_count": null,
   "metadata": {},
   "outputs": [],
   "source": [
    "# Práctica 03: Python - Estructuras Condicionales\n",
    "\n",
    "### Descripción\n",
    "##En esta práctica se explorará la introducción a listas y estructuras condicionales en Python.\n",
    "\n",
    "### Objetivos\n",
    "##1. Introducción al uso de listas.\n",
    "##2. Uso de estructuras condicionales: `if`, `elif`, `else`.\n",
    "\n",
    "## Introducción a Listas\n",
    "\n",
    "##Una lista en Python es una colección ordenada de valores. Los valores pueden ser de cualquier tipo. A continuación, veremos cómo crear y manipular listas.\n",
    "\n",
    "# Crear una lista\n",
    "mi_lista = [10, 20, 30, 40]\n",
    "print(\"Lista original:\", mi_lista)\n",
    "\n",
    "# Acceder al primer elemento de la lista\n",
    "print(\"Primer elemento:\", mi_lista[0])\n",
    "\n",
    "# Modificar un elemento en la lista\n",
    "mi_lista[2] = 35\n",
    "print(\"Lista modificada:\", mi_lista)\n",
    "\n",
    "# Adicionar elementos a una lista\n",
    "mi_lista.append(50)\n",
    "print(\"Lista después de adicionar un elemento:\", mi_lista)\n",
    "\n",
    "# Borrar un elemento de una lista\n",
    "del mi_lista[1]\n",
    "print(\"Lista después de eliminar el segundo elemento:\", mi_lista)\n",
    "\n",
    "# Ordenar una lista\n",
    "mi_lista.sort()\n",
    "print(\"Lista ordenada:\", mi_lista)\n",
    "\n",
    "# Longitud de una lista\n",
    "len(mi_lista)\n",
    "\n"
   ]
  }
 ],
 "metadata": {
  "kernelspec": {
   "display_name": "Python 3",
   "language": "python",
   "name": "python3"
  },
  "language_info": {
   "name": "python",
   "version": "3.11.2"
  }
 },
 "nbformat": 4,
 "nbformat_minor": 2
}
